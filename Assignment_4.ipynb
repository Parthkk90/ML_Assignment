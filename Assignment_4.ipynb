{
  "nbformat": 4,
  "nbformat_minor": 0,
  "metadata": {
    "colab": {
      "provenance": []
    },
    "kernelspec": {
      "name": "python3",
      "display_name": "Python 3"
    },
    "language_info": {
      "name": "python"
    }
  },
  "cells": [
    {
      "cell_type": "code",
      "source": [
        "import pandas as pd\n",
        "import numpy as np\n",
        "import matplotlib.pyplot as plt\n",
        "import seaborn as sns\n",
        "from sklearn.model_selection import train_test_split\n",
        "from sklearn.preprocessing import StandardScaler\n",
        "from sklearn.linear_model import LogisticRegression\n",
        "from sklearn.metrics import confusion_matrix, accuracy_score, precision_score, recall_score, f1_score\n",
        "import kagglehub"
      ],
      "metadata": {
        "id": "FzpPghqBFdbD"
      },
      "execution_count": null,
      "outputs": []
    },
    {
      "cell_type": "code",
      "execution_count": null,
      "metadata": {
        "colab": {
          "base_uri": "https://localhost:8080/"
        },
        "id": "OP5n_VHzEcek",
        "outputId": "7ed9867b-d15b-4294-d407-d3df06f6ef92"
      },
      "outputs": [
        {
          "output_type": "stream",
          "name": "stdout",
          "text": [
            "Downloading from https://www.kaggle.com/api/v1/datasets/download/mkechinov/ecommerce-events-history-in-cosmetics-shop?dataset_version_number=6...\n"
          ]
        },
        {
          "output_type": "stream",
          "name": "stderr",
          "text": [
            "100%|██████████| 430M/430M [00:07<00:00, 58.9MB/s]"
          ]
        },
        {
          "output_type": "stream",
          "name": "stdout",
          "text": [
            "Extracting files...\n"
          ]
        },
        {
          "output_type": "stream",
          "name": "stderr",
          "text": [
            "\n"
          ]
        },
        {
          "output_type": "stream",
          "name": "stdout",
          "text": [
            "Path to dataset files: /root/.cache/kagglehub/datasets/mkechinov/ecommerce-events-history-in-cosmetics-shop/versions/6\n"
          ]
        }
      ],
      "source": [
        "import kagglehub\n",
        "\n",
        "# Download latest version\n",
        "path = kagglehub.dataset_download(\"mkechinov/ecommerce-events-history-in-cosmetics-shop\")\n",
        "\n",
        "print(\"Path to dataset files:\", path)"
      ]
    },
    {
      "cell_type": "code",
      "source": [
        "csv_file = path + '/2019-Nov.csv'  # Adjust if the filename is different\n",
        "df = pd.read_csv(csv_file)\n"
      ],
      "metadata": {
        "id": "jxYsv7VwFgLf"
      },
      "execution_count": null,
      "outputs": []
    },
    {
      "cell_type": "code",
      "source": [
        "df = df.head()"
      ],
      "metadata": {
        "id": "7KI8qvprFofs"
      },
      "execution_count": null,
      "outputs": []
    },
    {
      "cell_type": "code",
      "source": [
        "print(\"Column Names:\")\n",
        "print(df.columns)"
      ],
      "metadata": {
        "colab": {
          "base_uri": "https://localhost:8080/"
        },
        "id": "FqQl2v94F0eC",
        "outputId": "4ff917a5-a3f1-465c-cb57-a9400a3cc2a7"
      },
      "execution_count": null,
      "outputs": [
        {
          "output_type": "stream",
          "name": "stdout",
          "text": [
            "Column Names:\n",
            "Index(['event_time', 'event_type', 'product_id', 'category_id',\n",
            "       'category_code', 'brand', 'price', 'user_id', 'user_session'],\n",
            "      dtype='object')\n"
          ]
        }
      ]
    },
    {
      "cell_type": "code",
      "source": [
        "X = df[['event_time', 'event_type', 'product_id', 'category_id', 'category_code', 'brand', 'price']]\n",
        "y = df['user_session']\n"
      ],
      "metadata": {
        "id": "jgCjhuxIGUFi"
      },
      "execution_count": null,
      "outputs": []
    },
    {
      "cell_type": "code",
      "source": [
        "X = pd.get_dummies(X, columns=['event_type', 'category_code', 'brand'], drop_first=True)\n"
      ],
      "metadata": {
        "id": "Utb-VTyYGif1"
      },
      "execution_count": null,
      "outputs": []
    },
    {
      "cell_type": "code",
      "source": [
        "X_train, X_test, y_train, y_test = train_test_split(X, y, test_size=0.3, random_state=42)\n",
        "\n"
      ],
      "metadata": {
        "id": "5x1Bul71Glr0"
      },
      "execution_count": null,
      "outputs": []
    },
    {
      "cell_type": "code",
      "source": [
        "import pandas as pd\n",
        "from sklearn.model_selection import train_test_split\n",
        "from sklearn.preprocessing import StandardScaler\n",
        "\n",
        "# Assuming df is your DataFrame\n",
        "X = df[['event_time', 'event_type', 'product_id', 'category_id', 'category_code', 'brand', 'price']]\n",
        "y = df['user_session']\n",
        "\n",
        "X = pd.get_dummies(X, columns=['event_type', 'category_code', 'brand'], drop_first=True)\n",
        "\n",
        "X_train, X_test, y_train, y_test = train_test_split(X, y, test_size=0.3, random_state=42)\n",
        "\n",
        "# Convert 'event_time' to numeric features before scaling\n",
        "# Extract relevant features from the datetime string\n",
        "# For example, hour of the day\n",
        "# You can use other features like day of the week, month, etc. depending on the analysis.\n",
        "X_train['event_hour'] = pd.to_datetime(X_train['event_time']).dt.hour\n",
        "X_test['event_hour'] = pd.to_datetime(X_test['event_time']).dt.hour\n",
        "\n",
        "# Drop the original 'event_time' column\n",
        "X_train = X_train.drop('event_time', axis=1)\n",
        "X_test = X_test.drop('event_time', axis=1)\n",
        "\n",
        "\n",
        "scaler = StandardScaler()\n",
        "X_train = scaler.fit_transform(X_train)\n",
        "X_test = scaler.transform(X_test)"
      ],
      "metadata": {
        "id": "aMcxbe4gGnpr"
      },
      "execution_count": null,
      "outputs": []
    },
    {
      "cell_type": "code",
      "source": [
        "model = LogisticRegression(max_iter=500)\n",
        "model.fit(X_train, y_train)\n",
        "y_pred = model.predict(X_test)\n"
      ],
      "metadata": {
        "id": "Ilv56MZoGzEq"
      },
      "execution_count": null,
      "outputs": []
    },
    {
      "cell_type": "code",
      "source": [
        "conf_matrix = confusion_matrix(y_test, y_pred)\n",
        "print(\"Confusion Matrix:\\n\", conf_matrix)\n"
      ],
      "metadata": {
        "colab": {
          "base_uri": "https://localhost:8080/"
        },
        "id": "w-ZRK8qzG101",
        "outputId": "4d059aee-00d2-42e7-fe5f-8048c3ad44c3"
      },
      "execution_count": null,
      "outputs": [
        {
          "output_type": "stream",
          "name": "stdout",
          "text": [
            "Confusion Matrix:\n",
            " [[0 0]\n",
            " [2 0]]\n"
          ]
        }
      ]
    },
    {
      "cell_type": "code",
      "source": [
        "a_accuracy = accuracy_score(y_test, y_pred)\n",
        "a_precision = precision_score(y_test, y_pred, average='weighted')\n",
        "a_recall = recall_score(y_test, y_pred, average='weighted')\n",
        "a_f1 = f1_score(y_test, y_pred, average='weighted')"
      ],
      "metadata": {
        "colab": {
          "base_uri": "https://localhost:8080/"
        },
        "id": "jyX7Q2VxG4f8",
        "outputId": "9baf1aec-cc6b-452a-b54e-84b7335ef512"
      },
      "execution_count": null,
      "outputs": [
        {
          "output_type": "stream",
          "name": "stderr",
          "text": [
            "/usr/local/lib/python3.11/dist-packages/sklearn/metrics/_classification.py:1565: UndefinedMetricWarning: Precision is ill-defined and being set to 0.0 in labels with no predicted samples. Use `zero_division` parameter to control this behavior.\n",
            "  _warn_prf(average, modifier, f\"{metric.capitalize()} is\", len(result))\n",
            "/usr/local/lib/python3.11/dist-packages/sklearn/metrics/_classification.py:1565: UndefinedMetricWarning: Recall is ill-defined and being set to 0.0 in labels with no true samples. Use `zero_division` parameter to control this behavior.\n",
            "  _warn_prf(average, modifier, f\"{metric.capitalize()} is\", len(result))\n"
          ]
        }
      ]
    },
    {
      "cell_type": "code",
      "source": [
        "print(f\"Accuracy: {a_accuracy}\")\n",
        "print(f\"Precision: {a_precision}\")\n",
        "print(f\"Recall: {a_recall}\")\n",
        "print(f\"F1 Score: {a_f1}\")\n"
      ],
      "metadata": {
        "colab": {
          "base_uri": "https://localhost:8080/"
        },
        "id": "QFO4iqvEG68C",
        "outputId": "a0c8173c-cfbc-41a5-cc10-eaa981129473"
      },
      "execution_count": null,
      "outputs": [
        {
          "output_type": "stream",
          "name": "stdout",
          "text": [
            "Accuracy: 0.0\n",
            "Precision: 0.0\n",
            "Recall: 0.0\n",
            "F1 Score: 0.0\n"
          ]
        }
      ]
    }
  ]
}